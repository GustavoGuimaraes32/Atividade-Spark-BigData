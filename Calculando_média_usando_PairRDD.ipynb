{
  "nbformat": 4,
  "nbformat_minor": 0,
  "metadata": {
    "colab": {
      "provenance": [],
      "collapsed_sections": [],
      "authorship_tag": "ABX9TyOLKDZHNpEERAM62+o1LUUH"
    },
    "kernelspec": {
      "name": "python3",
      "display_name": "Python 3"
    },
    "language_info": {
      "name": "python"
    }
  },
  "cells": [
    {
      "cell_type": "code",
      "execution_count": null,
      "metadata": {
        "id": "36un-BEQlFYU"
      },
      "outputs": [],
      "source": [
        "!pip install pyspark"
      ]
    },
    {
      "cell_type": "code",
      "source": [
        "# importar bibliotecas\n",
        "import pyspark\n",
        "from pyspark.sql import SparkSession\n",
        "\n",
        "#Criação de uma sessão Spark(caso ela não exista) ou recuperação de uma \n",
        "#sessão existente com o mesmo nome\n",
        "spark = SparkSession.builder.appName(\"Word Count\").master('local[*]').getOrCreate()\n",
        "\n",
        "# criação do contexto\n",
        "\n",
        "sc = spark.sparkContext\n",
        "\n",
        "rdd = sc.textFile(\"RealEstate.csv\")\n",
        "rdd.take(4)\n",
        "\n",
        "# Ignorar o Cabeçalho\n",
        "\n",
        "rdd = rdd.filter(lambda x:x.split(\",\")[0]!=\"MLS\")\n",
        "rdd.take(4)"
      ],
      "metadata": {
        "colab": {
          "base_uri": "https://localhost:8080/"
        },
        "id": "z7UXe9pYlLAD",
        "outputId": "f26b660e-06a1-4758-8ccb-b114c04da629"
      },
      "execution_count": 3,
      "outputs": [
        {
          "output_type": "execute_result",
          "data": {
            "text/plain": [
              "['132842,Arroyo Grande,795000.00,3,3,2371,335.30,Short Sale',\n",
              " '134364,Paso Robles,399000.00,4,3,2818,141.59,Short Sale',\n",
              " '135141,Paso Robles,545000.00,4,3,3032,179.75,Short Sale',\n",
              " '135712,Morro Bay,909000.00,4,4,3540,256.78,Short Sale']"
            ]
          },
          "metadata": {},
          "execution_count": 3
        }
      ]
    },
    {
      "cell_type": "code",
      "source": [
        "# Transformar o RDD em PairRDD com (chave, (valor1, valor2)) -> (nro_rooms, (price, 1))\n",
        "pairRDD = rdd.map(lambda x:(int(x.split(\",\")[3]), (float(x.split(\",\")[2]), 1)))\n",
        "pairRDD.take(4)"
      ],
      "metadata": {
        "colab": {
          "base_uri": "https://localhost:8080/"
        },
        "id": "WrKfNfpWmZ7b",
        "outputId": "8012fd63-3cea-4d8a-a518-43e1c24b1e29"
      },
      "execution_count": 11,
      "outputs": [
        {
          "output_type": "execute_result",
          "data": {
            "text/plain": [
              "[(3, (795000.0, 1)),\n",
              " (4, (399000.0, 1)),\n",
              " (4, (545000.0, 1)),\n",
              " (4, (909000.0, 1))]"
            ]
          },
          "metadata": {},
          "execution_count": 11
        }
      ]
    },
    {
      "cell_type": "code",
      "source": [
        "# Obter a soma dos preços e a quantidade de casas por chave\n",
        "pairRDD_sum = pairRDD.reduceByKey(lambda x,y: (x[0]+y[0], x[1]+y[1]))\n",
        "pairRDD_sum.take(4)"
      ],
      "metadata": {
        "colab": {
          "base_uri": "https://localhost:8080/"
        },
        "id": "XeJVeOsynGlu",
        "outputId": "9fa189fc-0739-4814-ef88-318bcfbf1a0e"
      },
      "execution_count": 12,
      "outputs": [
        {
          "output_type": "execute_result",
          "data": {
            "text/plain": [
              "[(4, (85575190.0, 177)),\n",
              " (2, (32761834.0, 123)),\n",
              " (0, (586900.0, 2)),\n",
              " (6, (2412900.0, 4))]"
            ]
          },
          "metadata": {},
          "execution_count": 12
        }
      ]
    },
    {
      "cell_type": "code",
      "source": [
        "# Calcular a média (soma dos preços / qtde de casas)\n",
        "pairRDD_average = pairRDD_sum.mapValues(lambda x: x[0] / x[1])\n",
        "pairRDD_average.collect()"
      ],
      "metadata": {
        "colab": {
          "base_uri": "https://localhost:8080/"
        },
        "id": "g-B_dputokpg",
        "outputId": "fdb5f11e-2789-4584-cf16-d6476152fda1"
      },
      "execution_count": 14,
      "outputs": [
        {
          "output_type": "execute_result",
          "data": {
            "text/plain": [
              "[(4, 483475.6497175141),\n",
              " (2, 266356.3739837398),\n",
              " (0, 293450.0),\n",
              " (6, 603225.0),\n",
              " (10, 699000.0),\n",
              " (3, 359062.20649651974),\n",
              " (7, 325000.0),\n",
              " (1, 169981.81818181818),\n",
              " (5, 657858.0645161291)]"
            ]
          },
          "metadata": {},
          "execution_count": 14
        }
      ]
    },
    {
      "cell_type": "code",
      "source": [
        "# Ordenar a saída de maneira crescente de acordo com o nro_room\n",
        "pairRDD_average_sorted = pairRDD_average.sortByKey(ascending=True)\n",
        "pairRDD_average_sorted.collect()"
      ],
      "metadata": {
        "colab": {
          "base_uri": "https://localhost:8080/"
        },
        "id": "BhFJFStctsDG",
        "outputId": "08ee3573-451c-4c00-cecf-55b57baf6cd6"
      },
      "execution_count": 15,
      "outputs": [
        {
          "output_type": "execute_result",
          "data": {
            "text/plain": [
              "[(0, 293450.0),\n",
              " (1, 169981.81818181818),\n",
              " (2, 266356.3739837398),\n",
              " (3, 359062.20649651974),\n",
              " (4, 483475.6497175141),\n",
              " (5, 657858.0645161291),\n",
              " (6, 603225.0),\n",
              " (7, 325000.0),\n",
              " (10, 699000.0)]"
            ]
          },
          "metadata": {},
          "execution_count": 15
        }
      ]
    }
  ]
}