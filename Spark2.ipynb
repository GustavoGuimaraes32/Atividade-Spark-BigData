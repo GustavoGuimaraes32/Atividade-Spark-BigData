{
  "nbformat": 4,
  "nbformat_minor": 0,
  "metadata": {
    "colab": {
      "provenance": [],
      "collapsed_sections": [],
      "authorship_tag": "ABX9TyPSz9uBunwlFPM9L8Bacnx8"
    },
    "kernelspec": {
      "name": "python3",
      "display_name": "Python 3"
    },
    "language_info": {
      "name": "python"
    }
  },
  "cells": [
    {
      "cell_type": "code",
      "execution_count": null,
      "metadata": {
        "colab": {
          "base_uri": "https://localhost:8080/"
        },
        "id": "pMrn0O8yEXaF",
        "outputId": "175f9bbf-95d7-4a4a-a459-20b9f2c627f8"
      },
      "outputs": [
        {
          "output_type": "stream",
          "name": "stdout",
          "text": [
            "Looking in indexes: https://pypi.org/simple, https://us-python.pkg.dev/colab-wheels/public/simple/\n",
            "Collecting pyspark\n",
            "  Downloading pyspark-3.3.1.tar.gz (281.4 MB)\n",
            "\u001b[K     |████████████████████████████████| 281.4 MB 43 kB/s \n",
            "\u001b[?25hCollecting py4j==0.10.9.5\n",
            "  Downloading py4j-0.10.9.5-py2.py3-none-any.whl (199 kB)\n",
            "\u001b[K     |████████████████████████████████| 199 kB 50.6 MB/s \n",
            "\u001b[?25hBuilding wheels for collected packages: pyspark\n",
            "  Building wheel for pyspark (setup.py) ... \u001b[?25l\u001b[?25hdone\n",
            "  Created wheel for pyspark: filename=pyspark-3.3.1-py2.py3-none-any.whl size=281845513 sha256=7e000724e0b65871f9adc3d409553acd9740afe24e102fe9862ab533890f963a\n",
            "  Stored in directory: /root/.cache/pip/wheels/42/59/f5/79a5bf931714dcd201b26025347785f087370a10a3329a899c\n",
            "Successfully built pyspark\n",
            "Installing collected packages: py4j, pyspark\n",
            "Successfully installed py4j-0.10.9.5 pyspark-3.3.1\n"
          ]
        }
      ],
      "source": [
        "pip install pyspark"
      ]
    },
    {
      "cell_type": "code",
      "source": [
        "# importar bibliotecas\n",
        "import pyspark\n",
        "from pyspark.sql import SparkSession\n",
        "\n",
        "#Criação de uma sessão Spark(caso ela não exista) ou recuperação de uma \n",
        "#sessão existente com o mesmo nome\n",
        "spark = SparkSession.builder.appName(\"Word Count\").master('local[*]').getOrCreate()\n",
        "\n",
        "# criação do contexto\n",
        "\n",
        "sc = spark.sparkContext\n",
        "\n",
        "rdd = sc.textFile(\"Airports.csv\")\n",
        "rdd.take(4)\n",
        "\n",
        "# Ignorar o Cabeçalho\n",
        "\n",
        "rdd = rdd.filter(lambda x:x.split(\",\")[0]!=\"icao_code\")\n",
        "rdd.take(4)"
      ],
      "metadata": {
        "colab": {
          "base_uri": "https://localhost:8080/"
        },
        "id": "uk0SFO9tO-TI",
        "outputId": "62305070-3894-43f2-b874-ee5129182903"
      },
      "execution_count": null,
      "outputs": [
        {
          "output_type": "execute_result",
          "data": {
            "text/plain": [
              "['AYGA,GKA,GOROKA,GOROKA,PAPUA NEW GUINEA,6,4,54,S,145,23,30,E,1610,-6.082,145.392,1',\n",
              " 'AYLA,LAE,N/A,LAE,PAPUA NEW GUINEA,0,0,0,U,0,0,0,U,0,0,0,2',\n",
              " 'AYMD,MAG,MADANG,MADANG,PAPUA NEW GUINEA,5,12,25,S,145,47,19,E,7,-5.207,145.789,3',\n",
              " 'AYMH,HGU,MOUNT HAGEN,MOUNT HAGEN,PAPUA NEW GUINEA,5,49,34,S,144,17,46,E,1643,-5.826,144.296,4']"
            ]
          },
          "metadata": {},
          "execution_count": 5
        }
      ]
    },
    {
      "cell_type": "code",
      "source": [
        "pairRdd = rdd.map(lambda x:(x.split(\",\")[2], x.split(\",\")[3]))\n",
        "pairRdd.collect()"
      ],
      "metadata": {
        "id": "iUMvBn0vQJF_"
      },
      "execution_count": null,
      "outputs": []
    },
    {
      "cell_type": "code",
      "source": [
        "filtro = pairRdd.filter(lambda x:x[1] == \"PARIS\")\n",
        "filtro.collect()"
      ],
      "metadata": {
        "colab": {
          "base_uri": "https://localhost:8080/"
        },
        "id": "GziX_o9ORZqF",
        "outputId": "b343ec0e-8139-49bb-838c-49d55eae5d75"
      },
      "execution_count": null,
      "outputs": [
        {
          "output_type": "execute_result",
          "data": {
            "text/plain": [
              "[('LE BOURGET', 'PARIS'),\n",
              " ('CHARLES DE GAULLE', 'PARIS'),\n",
              " ('N/A', 'PARIS'),\n",
              " ('ORLY', 'PARIS')]"
            ]
          },
          "metadata": {},
          "execution_count": 8
        }
      ]
    },
    {
      "cell_type": "code",
      "source": [
        "capitalize = filtro.map(lambda x:(x[0],x[1].capitalize()))\n",
        "capitalize.collect()"
      ],
      "metadata": {
        "colab": {
          "base_uri": "https://localhost:8080/"
        },
        "id": "CsHop4QQSCN2",
        "outputId": "7d4cc40f-5710-462d-d652-0529e596b242"
      },
      "execution_count": null,
      "outputs": [
        {
          "output_type": "execute_result",
          "data": {
            "text/plain": [
              "[('LE BOURGET', 'Paris'),\n",
              " ('CHARLES DE GAULLE', 'Paris'),\n",
              " ('N/A', 'Paris'),\n",
              " ('ORLY', 'Paris')]"
            ]
          },
          "metadata": {},
          "execution_count": 9
        }
      ]
    },
    {
      "cell_type": "code",
      "source": [
        "ordenado = capitalize.sortByKey(ascending=True)\n",
        "ordenado.collect()"
      ],
      "metadata": {
        "colab": {
          "base_uri": "https://localhost:8080/"
        },
        "id": "enDrkrT3TSwt",
        "outputId": "1a4b968d-ea01-4d7a-a159-28fc36e75d32"
      },
      "execution_count": null,
      "outputs": [
        {
          "output_type": "execute_result",
          "data": {
            "text/plain": [
              "[('CHARLES DE GAULLE', 'Paris'),\n",
              " ('LE BOURGET', 'Paris'),\n",
              " ('N/A', 'Paris'),\n",
              " ('ORLY', 'Paris')]"
            ]
          },
          "metadata": {},
          "execution_count": 10
        }
      ]
    },
    {
      "cell_type": "code",
      "source": [
        "ordenado.coalesce(1).saveAsTextFile(\"Paris_Airports.txt\")"
      ],
      "metadata": {
        "id": "dveJR9rSUnZ_"
      },
      "execution_count": null,
      "outputs": []
    }
  ]
}