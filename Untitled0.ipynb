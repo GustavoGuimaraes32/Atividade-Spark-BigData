{
  "nbformat": 4,
  "nbformat_minor": 0,
  "metadata": {
    "colab": {
      "provenance": [],
      "authorship_tag": "ABX9TyO7HYKtZ+McqV/zdiMr8Hrp",
      "include_colab_link": true
    },
    "kernelspec": {
      "name": "python3",
      "display_name": "Python 3"
    },
    "language_info": {
      "name": "python"
    }
  },
  "cells": [
    {
      "cell_type": "markdown",
      "metadata": {
        "id": "view-in-github",
        "colab_type": "text"
      },
      "source": [
        "<a href=\"https://colab.research.google.com/github/GustavoGuimaraes32/Atividade-Spark-BigData/blob/main/Untitled0.ipynb\" target=\"_parent\"><img src=\"https://colab.research.google.com/assets/colab-badge.svg\" alt=\"Open In Colab\"/></a>"
      ]
    },
    {
      "cell_type": "code",
      "execution_count": null,
      "metadata": {
        "id": "tdfKb6Bz8vHl"
      },
      "outputs": [],
      "source": [
        "from functools import reduce\n",
        "\n",
        "class Person:\n",
        "  # Construtor da Classe\n",
        "  def __init__(self, name, age):\n",
        "    self.name = name\n",
        "    self.age = age\n",
        "\n",
        "  # Função para formatação\n",
        "  def __str__(self):\n",
        "    return f'Name: {self.name} Age: {self.age}' \n",
        "\n",
        "\n",
        "# Criando uma lista de Pessoas\n",
        "pessoas = [Person(\"Gustavo Guimarães\", 21), Person(\"Scarlos\", 19), Person(\"Pedro Pobre\", 19)]\n",
        "\n",
        "for p in pessoas:\n",
        "  print(p)\n",
        "\n",
        "\n",
        "# Somando a idade de todas as pessoas\n",
        "MapPerson = list(map(lambda x: x.age,pessoas ))\n",
        "SumAge = reduce(lambda x,y: x + y, MapPerson)\n",
        "print(f\"Soma da idade de todas as pessoas: {SumAge}\")\n",
        "\n",
        "# Incrementar 1 a idade de todas as pessoas\n",
        "pessoas = list(map(lambda p: Person(p.name, p.age + 1), pessoas))\n",
        "print()\n",
        "print(\"Somando 1 em todas as idades de todos as Pessoas\")\n",
        "for p in pessoas:\n",
        "  print(p)\n",
        "\n",
        "# Retorna somente a pessoa com idade maior que 20 anos\n",
        "maiores = list(filter(lambda p: p.age > 20, pessoas))\n",
        "print()\n",
        "print(\"Retornando somente a pessoa com idade maior que 20 anos\")\n",
        "for p in maiores:\n",
        "  print(p)\n"
      ]
    },
    {
      "cell_type": "markdown",
      "source": [
        "**COMEÇANDO A UTILIZAR O SPARK**"
      ],
      "metadata": {
        "id": "ncPz4NbXWy1_"
      }
    },
    {
      "cell_type": "code",
      "source": [
        "!pip install pyspark"
      ],
      "metadata": {
        "id": "kQ7KhTqbE0qB",
        "colab": {
          "base_uri": "https://localhost:8080/"
        },
        "outputId": "d405a881-0f13-4da2-e58f-5d12b5da5ab4"
      },
      "execution_count": null,
      "outputs": [
        {
          "output_type": "stream",
          "name": "stdout",
          "text": [
            "Looking in indexes: https://pypi.org/simple, https://us-python.pkg.dev/colab-wheels/public/simple/\n",
            "Collecting pyspark\n",
            "  Downloading pyspark-3.3.0.tar.gz (281.3 MB)\n",
            "\u001b[K     |████████████████████████████████| 281.3 MB 42 kB/s \n",
            "\u001b[?25hCollecting py4j==0.10.9.5\n",
            "  Downloading py4j-0.10.9.5-py2.py3-none-any.whl (199 kB)\n",
            "\u001b[K     |████████████████████████████████| 199 kB 48.8 MB/s \n",
            "\u001b[?25hBuilding wheels for collected packages: pyspark\n",
            "  Building wheel for pyspark (setup.py) ... \u001b[?25l\u001b[?25hdone\n",
            "  Created wheel for pyspark: filename=pyspark-3.3.0-py2.py3-none-any.whl size=281764026 sha256=7fe499cfa411ea7daedd881aa88fa7d2a2d45953834ed163d500ca045bb584fc\n",
            "  Stored in directory: /root/.cache/pip/wheels/7a/8e/1b/f73a52650d2e5f337708d9f6a1750d451a7349a867f928b885\n",
            "Successfully built pyspark\n",
            "Installing collected packages: py4j, pyspark\n",
            "Successfully installed py4j-0.10.9.5 pyspark-3.3.0\n"
          ]
        }
      ]
    },
    {
      "cell_type": "code",
      "source": [
        "# importar bibliotecas\n",
        "import pyspark\n",
        "from pyspark.sql import SparkSession"
      ],
      "metadata": {
        "id": "t8y-DTcvUT08"
      },
      "execution_count": null,
      "outputs": []
    },
    {
      "cell_type": "code",
      "source": [
        "#Criação de uma sessão Spark(caso ela não exista) ou recuperação de uma \n",
        "#sessão existente com o mesmo nome\n",
        "spark = SparkSession.builder.appName(\"Word Count\").master('local[*]').getOrCreate()"
      ],
      "metadata": {
        "id": "-ti1s-6kUgcG"
      },
      "execution_count": null,
      "outputs": []
    },
    {
      "cell_type": "code",
      "source": [
        "# criação do contexto\n",
        "\n",
        "sc = spark.sparkContext"
      ],
      "metadata": {
        "id": "8pPtqcZDVcQG"
      },
      "execution_count": null,
      "outputs": []
    },
    {
      "cell_type": "code",
      "source": [
        "# Criação de um RDD que carrega o arquivo SeinField\n",
        "\n",
        "rdd = sc.textFile(\"Seinfeld.txt\")"
      ],
      "metadata": {
        "id": "q0EteoTMVl6Y"
      },
      "execution_count": null,
      "outputs": []
    },
    {
      "cell_type": "code",
      "source": [
        "# Vizualizar um rdd\n",
        "\n",
        "rdd.collect()"
      ],
      "metadata": {
        "id": "oncUZOMfWE-P"
      },
      "execution_count": null,
      "outputs": []
    },
    {
      "cell_type": "code",
      "source": [
        "lista = rdd.collect()"
      ],
      "metadata": {
        "id": "TBGp-BoMWXcb"
      },
      "execution_count": null,
      "outputs": []
    },
    {
      "cell_type": "code",
      "source": [
        "lista[30]"
      ],
      "metadata": {
        "colab": {
          "base_uri": "https://localhost:8080/",
          "height": 35
        },
        "id": "gjnHiGWHWcDu",
        "outputId": "6ec514f3-403c-4f72-d411-6baebe4fddce"
      },
      "execution_count": null,
      "outputs": [
        {
          "output_type": "execute_result",
          "data": {
            "text/plain": [
              "'GEORGE: (smiling) So, you know, what, what happened?'"
            ],
            "application/vnd.google.colaboratory.intrinsic+json": {
              "type": "string"
            }
          },
          "metadata": {},
          "execution_count": 55
        }
      ]
    },
    {
      "cell_type": "code",
      "source": [
        "# Transformar cada linha (i.e., cada item da lista) em um conjunto de palavras\n",
        "# A partir do slipt do texto em espaço\n",
        "\n",
        "palavras = rdd.flatMap(lambda x: x.split(\" \"))\n",
        "\n",
        "# Mostrar os primeiros N itens\n",
        "palavras.take(30)"
      ],
      "metadata": {
        "colab": {
          "base_uri": "https://localhost:8080/"
        },
        "id": "r2hoZoaKWe6J",
        "outputId": "be4351e7-c609-4973-afd4-c61c86cc3cbd"
      },
      "execution_count": null,
      "outputs": [
        {
          "output_type": "execute_result",
          "data": {
            "text/plain": [
              "['INT.',\n",
              " 'COMEDY',\n",
              " 'CLUB',\n",
              " '–',\n",
              " 'NIGHT',\n",
              " '(Jerry',\n",
              " 'is',\n",
              " 'on',\n",
              " 'stage,',\n",
              " 'performing.)',\n",
              " 'JERRY:',\n",
              " 'Do',\n",
              " 'you',\n",
              " 'know',\n",
              " 'what',\n",
              " 'this',\n",
              " 'is',\n",
              " 'all',\n",
              " 'about?',\n",
              " 'Do',\n",
              " 'you',\n",
              " 'know,',\n",
              " 'why',\n",
              " \"we're\",\n",
              " 'here?',\n",
              " 'To',\n",
              " 'be',\n",
              " 'out,',\n",
              " 'this',\n",
              " 'is']"
            ]
          },
          "metadata": {},
          "execution_count": 59
        }
      ]
    },
    {
      "cell_type": "code",
      "source": [
        "palavras = rdd.flatMap(lambda x:x.lower().replace(\".\", \"\").replace(\"(\", \"\").replace(\")\", \"\").split(\" \"))\n",
        "palavras.take(30)"
      ],
      "metadata": {
        "colab": {
          "base_uri": "https://localhost:8080/"
        },
        "id": "7I5bRgtxX-_r",
        "outputId": "f12ab646-6a37-4e9d-8b82-ad64f2e6e309"
      },
      "execution_count": null,
      "outputs": [
        {
          "output_type": "execute_result",
          "data": {
            "text/plain": [
              "['int',\n",
              " 'comedy',\n",
              " 'club',\n",
              " '–',\n",
              " 'night',\n",
              " 'jerry',\n",
              " 'is',\n",
              " 'on',\n",
              " 'stage,',\n",
              " 'performing',\n",
              " 'jerry:',\n",
              " 'do',\n",
              " 'you',\n",
              " 'know',\n",
              " 'what',\n",
              " 'this',\n",
              " 'is',\n",
              " 'all',\n",
              " 'about?',\n",
              " 'do',\n",
              " 'you',\n",
              " 'know,',\n",
              " 'why',\n",
              " \"we're\",\n",
              " 'here?',\n",
              " 'to',\n",
              " 'be',\n",
              " 'out,',\n",
              " 'this',\n",
              " 'is']"
            ]
          },
          "metadata": {},
          "execution_count": 69
        }
      ]
    },
    {
      "cell_type": "code",
      "source": [
        "# Consultar a quantidade de elementos do RDD\n",
        "\n",
        "palavras.count()"
      ],
      "metadata": {
        "colab": {
          "base_uri": "https://localhost:8080/"
        },
        "id": "WKE-nZjBZZ8M",
        "outputId": "39367254-c138-40ff-9d6f-82c44038aeb5"
      },
      "execution_count": null,
      "outputs": [
        {
          "output_type": "execute_result",
          "data": {
            "text/plain": [
              "723895"
            ]
          },
          "metadata": {},
          "execution_count": 70
        }
      ]
    },
    {
      "cell_type": "code",
      "source": [
        "# Remover itens vazios\n",
        "\n",
        "palavras = palavras.filter(lambda x:x != \"\")\n",
        "palavras.count()"
      ],
      "metadata": {
        "colab": {
          "base_uri": "https://localhost:8080/"
        },
        "id": "lM8lPafmZhio",
        "outputId": "4b70d6a8-3be8-477c-b8d9-331f2f1b468a"
      },
      "execution_count": null,
      "outputs": [
        {
          "output_type": "execute_result",
          "data": {
            "text/plain": [
              "722738"
            ]
          },
          "metadata": {},
          "execution_count": 71
        }
      ]
    },
    {
      "cell_type": "code",
      "source": [
        "# Contar o número de ocorrencias de cada palavra\n",
        "\n",
        "contagem = palavras.countByValue()"
      ],
      "metadata": {
        "id": "J9QcRWs-aV4S"
      },
      "execution_count": null,
      "outputs": []
    },
    {
      "cell_type": "code",
      "source": [
        "# Imprimir as palavras e contagem de maneira ordenada\n",
        "\n",
        "for p, c in sorted(contagem.items()):\n",
        "  print(f\"{p}: {c}\")"
      ],
      "metadata": {
        "id": "kdU5kkD_a5GL"
      },
      "execution_count": null,
      "outputs": []
    },
    {
      "cell_type": "code",
      "source": [
        "# Contagem do número de Aeroportos dos EUA\n",
        "\n",
        "rdd = sc.textFile(\"Airports.csv\")\n",
        "rdd.take(5)"
      ],
      "metadata": {
        "colab": {
          "base_uri": "https://localhost:8080/"
        },
        "id": "rTL4nR34biPr",
        "outputId": "ca51b3dc-80de-4511-a385-0a12ed5f3b7c"
      },
      "execution_count": null,
      "outputs": [
        {
          "output_type": "execute_result",
          "data": {
            "text/plain": [
              "['icao_code,iata_code,name,city,country,lat_deg,lat_min,lat_sec,lat_dir,lon_deg,lon_min,lon_sec,lon_dir,altitude,lat_decimal,lon_decimal,id',\n",
              " 'AYGA,GKA,GOROKA,GOROKA,PAPUA NEW GUINEA,6,4,54,S,145,23,30,E,1610,-6.082,145.392,1',\n",
              " 'AYLA,LAE,N/A,LAE,PAPUA NEW GUINEA,0,0,0,U,0,0,0,U,0,0,0,2',\n",
              " 'AYMD,MAG,MADANG,MADANG,PAPUA NEW GUINEA,5,12,25,S,145,47,19,E,7,-5.207,145.789,3',\n",
              " 'AYMH,HGU,MOUNT HAGEN,MOUNT HAGEN,PAPUA NEW GUINEA,5,49,34,S,144,17,46,E,1643,-5.826,144.296,4']"
            ]
          },
          "metadata": {},
          "execution_count": 77
        }
      ]
    },
    {
      "cell_type": "code",
      "source": [
        "# Ignorar o Cabeçalho\n",
        "\n",
        "rdd = rdd.filter(lambda x:x.split(\",\")[0]!=\"icao_code\")\n",
        "rdd.take(5)"
      ],
      "metadata": {
        "colab": {
          "base_uri": "https://localhost:8080/"
        },
        "id": "Ewwu_OsGb2u7",
        "outputId": "83a2dd0a-0253-41eb-8f80-28991a101360"
      },
      "execution_count": null,
      "outputs": [
        {
          "output_type": "execute_result",
          "data": {
            "text/plain": [
              "['AYGA,GKA,GOROKA,GOROKA,PAPUA NEW GUINEA,6,4,54,S,145,23,30,E,1610,-6.082,145.392,1',\n",
              " 'AYLA,LAE,N/A,LAE,PAPUA NEW GUINEA,0,0,0,U,0,0,0,U,0,0,0,2',\n",
              " 'AYMD,MAG,MADANG,MADANG,PAPUA NEW GUINEA,5,12,25,S,145,47,19,E,7,-5.207,145.789,3',\n",
              " 'AYMH,HGU,MOUNT HAGEN,MOUNT HAGEN,PAPUA NEW GUINEA,5,49,34,S,144,17,46,E,1643,-5.826,144.296,4',\n",
              " 'AYNZ,LAE,NADZAB,NADZAB,PAPUA NEW GUINEA,6,34,11,S,146,43,34,E,73,-6.57,146.726,5']"
            ]
          },
          "metadata": {},
          "execution_count": 78
        }
      ]
    },
    {
      "cell_type": "code",
      "source": [
        "# Selecionar as linhas que possuem USA nas colunas\n",
        "\n",
        "rdd_usa = rdd.filter(lambda x:x.split(\",\")[4] == \"USA\")\n",
        "rdd_usa.take(5)"
      ],
      "metadata": {
        "colab": {
          "base_uri": "https://localhost:8080/"
        },
        "id": "evv67B7Cc3G4",
        "outputId": "afb509ae-18fb-4ade-9460-a4cbb27992cd"
      },
      "execution_count": null,
      "outputs": [
        {
          "output_type": "execute_result",
          "data": {
            "text/plain": [
              "['KABI,ABI,ABILENE RGNL,ABILENE,USA,32,24,40,N,99,40,54,W,546,32.411,-99.682,3381',\n",
              " 'KABQ,ABQ,N/A,ALBUQUERQUE,USA,0,0,0,U,0,0,0,U,0,0,0,3382',\n",
              " 'KACK,ACK,NANTUCKET MEM,NANTUCKET,USA,41,15,10,N,70,3,36,W,15,41.253,-70.06,3383',\n",
              " 'KACT,ACT,WACO RGNL,WACO,USA,31,36,40,N,97,13,49,W,158,31.611,-97.23,3384',\n",
              " 'KACY,ACY,ATLANTIC CITY INTERNATIONAL,ATLANTIC CITY,USA,39,27,27,N,74,34,37,W,23,39.458,-74.577,3385']"
            ]
          },
          "metadata": {},
          "execution_count": 79
        }
      ]
    },
    {
      "cell_type": "code",
      "source": [
        "# Contagem da quantidade de aeroporto dos USA\n",
        "\n",
        "rdd_usa.count()"
      ],
      "metadata": {
        "colab": {
          "base_uri": "https://localhost:8080/"
        },
        "id": "ldUvaxundY-L",
        "outputId": "5756d85c-2a05-4eb8-ee44-a49f90426ccd"
      },
      "execution_count": null,
      "outputs": [
        {
          "output_type": "execute_result",
          "data": {
            "text/plain": [
              "552"
            ]
          },
          "metadata": {},
          "execution_count": 80
        }
      ]
    },
    {
      "cell_type": "code",
      "source": [
        "# Salvar o novo RDD em um arquivo\n",
        "\n",
        "rdd_usa.saveAsTextFile(\"RDD_USA.txt\")"
      ],
      "metadata": {
        "id": "p7B2o9CsdjzC"
      },
      "execution_count": null,
      "outputs": []
    },
    {
      "cell_type": "code",
      "source": [
        "# Salvar a saída em um arquivo único\n",
        "\n",
        "rdd_usa.coalesce(1).saveAsTextFile('RDD_USA_unique.txt')"
      ],
      "metadata": {
        "id": "RaqqzcrLdyMf"
      },
      "execution_count": null,
      "outputs": []
    },
    {
      "cell_type": "markdown",
      "source": [
        "\n",
        "\n",
        "> **EXERCICIO:** Create a Spark job that loads the file “Airports.csv” (available on Canvas – Material Complementar) \n",
        "and find all airports from Brazil with a latitude greater than 25. Convert all the resulting lines to \n",
        "lowercase and then save the results in a single file named “Brazil_airports_lat25.txt”.\n",
        "\n",
        "---\n",
        "\n",
        "\n",
        "\n"
      ],
      "metadata": {
        "id": "xcvlRD2MaBBe"
      }
    },
    {
      "cell_type": "code",
      "source": [
        "# !pip install pyspark\n",
        "\n",
        "# importar bibliotecas\n",
        "import pyspark\n",
        "from pyspark.sql import SparkSession\n",
        "\n",
        "#Criação de uma sessão Spark(caso ela não exista) ou recuperação de uma \n",
        "#sessão existente com o mesmo nome\n",
        "spark = SparkSession.builder.appName(\"Word Count\").master('local[*]').getOrCreate()\n",
        "\n",
        "# criação do contexto\n",
        "\n",
        "sc = spark.sparkContext\n",
        "\n",
        "rdd = sc.textFile(\"Airports.csv\")\n",
        "rdd.take(4)\n",
        "\n",
        "# Ignorar o Cabeçalho\n",
        "\n",
        "rdd = rdd.filter(lambda x:x.split(\",\")[0]!=\"icao_code\")\n",
        "rdd.take(4)\n",
        "\n",
        "# Selecionar as linhas que possuem BRAZIL nas colunas\n",
        "\n",
        "rdd_brazil = rdd.filter(lambda x:x.split(\",\")[4] == \"BRAZIL\")\n",
        "rdd_brazil.collect()\n",
        "\n",
        "# Selecionar as linhas que possuem Latitude maior que 25\n",
        "rdd_latitude = rdd_brazil.filter(lambda x:float(x.split(\",\")[5]) > 25)\n",
        "rdd_latitude.collect()\n",
        "\n",
        "# Transformar os resultados em lowercase\n",
        "rdd_final = rdd_latitude.map(lambda x:x.lower())\n",
        "rdd_final.collect()\n",
        "\n",
        "# Enviar o resultado para o arquivo Brazil_airports_lat25.txt\n",
        "rdd_final.coalesce(1).saveAsTextFile('Brazil_airports_lat25.txt')"
      ],
      "metadata": {
        "id": "YRu3KMecUUXt"
      },
      "execution_count": 31,
      "outputs": []
    },
    {
      "cell_type": "code",
      "source": [
        "# Pegar a média das latitudes dos aeroportos do Brazil\n",
        "rdd_pegarLat = rdd_brazil.map(lambda x:x.split(\",\")[5])\n",
        "rdd_pegarLat.collect()\n",
        "\n",
        "# Somar todas as latitudes\n",
        "rdd_somaLat = rdd_pegarLat.reduce(lambda x,y: float(x) + float(y))\n",
        "print(f\"Soma das latitudes dos aeroportos do Brasil: {rdd_somaLat:.2f}\")\n",
        "\n",
        "# Pegar a média das latitudes\n",
        "rdd_mediaLat = rdd_somaLat / rdd_pegarLat.count()\n",
        "print(f\"Média da latitude dos aeroportos do Brasil: {rdd_mediaLat:.2f}\")"
      ],
      "metadata": {
        "id": "VgVXXOP3dEpm",
        "colab": {
          "base_uri": "https://localhost:8080/"
        },
        "outputId": "aab885b7-7223-40cf-f978-246a0a271754"
      },
      "execution_count": 48,
      "outputs": [
        {
          "output_type": "stream",
          "name": "stdout",
          "text": [
            "Soma das latitudes dos aeroportos do Brasil: 1962.00\n",
            "Média da latitude dos aeroportos do Brasil: 13.82\n"
          ]
        }
      ]
    },
    {
      "cell_type": "code",
      "source": [
        "# Pegar o aeroporto (independente do país) com a maior latitude registrada\n",
        "rddLat = rdd.map(lambda x: float(x.split(\",\")[5]))\n",
        "\n",
        "# Buscar o maior valor (Utilizando Reduce)\n",
        "rddMaior = rddLat.reduce(lambda x,y: x if x > y else y)\n",
        "print(f\"Mairo Latitude: {rddMaior}\")"
      ],
      "metadata": {
        "colab": {
          "base_uri": "https://localhost:8080/"
        },
        "id": "bsH3wU9ZhlPV",
        "outputId": "0d947005-b9e6-4682-8fd2-5d072acdeaff"
      },
      "execution_count": 73,
      "outputs": [
        {
          "output_type": "stream",
          "name": "stdout",
          "text": [
            "Mairo Latitude: 89.0\n"
          ]
        }
      ]
    },
    {
      "cell_type": "code",
      "source": [
        "# Buscar o aeroporto que possui a maior latitude no passo anterior\n",
        "rdd_Aeroport_Lat = rdd.filter(lambda x:float(x.split(\",\")[5]) == rddMaior)\n",
        "rdd_Aeroport_Lat.collect()"
      ],
      "metadata": {
        "colab": {
          "base_uri": "https://localhost:8080/"
        },
        "id": "ot80YDG3lITO",
        "outputId": "1438341a-0092-4189-cd4a-1420b933c11b"
      },
      "execution_count": 74,
      "outputs": [
        {
          "output_type": "execute_result",
          "data": {
            "text/plain": [
              "[\"NZSP,N/A,SOUTH POLE STATION,STEPHEN'S ISLAND,NEW ZEALAND,89,59,59,S,0,0,0,E,2835,-90,0,5964\"]"
            ]
          },
          "metadata": {},
          "execution_count": 74
        }
      ]
    }
  ]
}